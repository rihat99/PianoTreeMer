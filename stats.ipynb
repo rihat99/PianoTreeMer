{
 "cells": [
  {
   "cell_type": "code",
   "execution_count": 1,
   "metadata": {},
   "outputs": [],
   "source": [
    "import numpy as np\n",
    "import torch\n",
    "import pretty_midi as pm\n",
    "import matplotlib.pyplot as plt\n",
    "import os\n",
    "\n",
    "import IPython.display     # IPython's display module (for in-line audio)"
   ]
  },
  {
   "cell_type": "code",
   "execution_count": 2,
   "metadata": {},
   "outputs": [],
   "source": [
    "import numpy as np\n",
    "import sklearn.metrics\n",
    "\n",
    "def __convert_piano_roll_to_note_onset_duration(x):\n",
    "    '''\n",
    "\n",
    "    :param x: numpy, num_songs*num_frames(32)*MIDI_DIM(128) [0,1,2]={silence, sustain, onset}\n",
    "    :return: numpy, num_songs*num_frames(32)*MIDI_DIM(128), value=duration if any onset otherwise 0\n",
    "    '''\n",
    "    num_songs=x.shape[0]\n",
    "    num_frames=x.shape[1]\n",
    "    midi_dim=x.shape[2]\n",
    "    nk=int(np.floor(np.log2(num_frames-1)))+1\n",
    "    duration_matrix=np.zeros_like(x,dtype=np.int64)\n",
    "    duration_matrix[x==1]=1\n",
    "    for log_d in range(nk):\n",
    "        d=2**log_d\n",
    "        shift_duration_matrix=np.zeros_like(duration_matrix,dtype=np.int64)\n",
    "        shift_duration_matrix[:,:-d,:]=duration_matrix[:,d:,:]\n",
    "        duration_matrix=(duration_matrix==d)*shift_duration_matrix+duration_matrix\n",
    "    result=np.zeros_like(x,dtype=np.int64)\n",
    "    result[:,:-1,:]=duration_matrix[:,1:,:]\n",
    "    result[x==2]+=1\n",
    "    result[x!=2]=0\n",
    "    return result\n",
    "\n",
    "\n",
    "\n",
    "def __note_level_reconstruction(original_x,recon_x):\n",
    "    print('[NOTE-LEVEL RECONSTRUCTION]')\n",
    "    original_notes=__convert_piano_roll_to_note_onset_duration(original_x)\n",
    "    recon_notes=__convert_piano_roll_to_note_onset_duration(recon_x)\n",
    "    num_positive=np.sum(recon_notes>0)\n",
    "    num_true=np.sum(original_notes>0)\n",
    "    tp_onset=np.sum(np.logical_and(recon_notes>0,original_notes>0))\n",
    "    tp_offset=np.sum(np.logical_and(original_notes==recon_notes,original_notes>0))\n",
    "    def report_binary_score(tp,name):\n",
    "        p=tp/num_positive\n",
    "        r=tp/num_true\n",
    "        f1=2*p*r/(p+r)\n",
    "        print('%s: \\tP=%.4f,R=%.4f,F1=%.4f'%(name,p,r,f1))\n",
    "    report_binary_score(tp_onset,'PITCH+ONSET')\n",
    "    report_binary_score(tp_offset,'PITCH+ON+OFF')\n",
    "    durations_recon=recon_notes[np.logical_and(recon_notes>0,original_notes>0)]\n",
    "    durations_origin=original_notes[np.logical_and(recon_notes>0,original_notes>0)]\n",
    "    durations_tp=np.minimum(durations_origin,durations_recon).sum()\n",
    "    durations_p=durations_tp/np.sum(durations_recon)\n",
    "    durations_r=durations_tp/np.sum(durations_origin)\n",
    "    durations_f1=2*durations_p*durations_r/(durations_p+durations_r)\n",
    "    print('%s: \\tP=%.4f,R=%.4f,F1=%.4f'%('GUS DURATION',durations_p,durations_r,durations_f1))\n",
    "\n",
    "\n",
    "\n",
    "def collect_statistics(original_x,recon_x,z_mu,z_logvar):\n",
    "    '''\n",
    "    Polyphonic VAE evaluator, version 2.0, by jjy\n",
    "    :param original_x: numpy, num_songs*num_frames(32)*MIDI_DIM(128) [0,1,2]={silence, sustain, onset}\n",
    "    :param recon_x: numpy, num_songs*num_frames(32)*MIDI_DIM(128) [0,1,2]={silence, sustain, onset}\n",
    "    :param z_mu: numpy, num_songs*z_dim\n",
    "    :param z_logvar: numpy, num_songs*z_dim\n",
    "    '''\n",
    "    def report_binary_score(p,r,f0,index,name):\n",
    "        print('%s: \\tP=%.4f,R=%.4f,F1=%.4f'%(name,p[index],r[index],f0[index]))\n",
    "    def average_kld(z_mu,z_sigma):\n",
    "        return (-0.5*np.mean(1+z_sigma-z_mu**2-np.exp(z_sigma)))\n",
    "    original_x=np.array(original_x)\n",
    "    recon_x=np.array(recon_x)\n",
    "    z_mu=np.array(z_mu)\n",
    "    z_logvar=np.array(z_logvar)\n",
    "    flat_original_x=original_x.reshape((-1))\n",
    "    flat_recon_x=recon_x.reshape((-1))\n",
    "    p,r,f,_=sklearn.metrics.precision_recall_fscore_support(flat_original_x,flat_recon_x,labels=[0,1,2])\n",
    "    __note_level_reconstruction(original_x,recon_x)\n",
    "    print('[FRAME-LEVEL RECONSTRUCTION]')\n",
    "    print('OVERALL ACC=%.4f'%((flat_original_x==flat_recon_x).sum()/len(flat_recon_x)))\n",
    "    report_binary_score(p,r,f,0,'SILENCE')\n",
    "    report_binary_score(p,r,f,1,'SUSTAIN')\n",
    "    report_binary_score(p,r,f,2,'ONSET')\n",
    "    print('[KLD]')\n",
    "    print('Z_DIM=%d'%z_mu.shape[-1])\n",
    "    print('AVERAGE KLD=%f'%average_kld(z_mu.reshape((-1)),z_logvar.reshape((-1))))\n"
   ]
  },
  {
   "cell_type": "code",
   "execution_count": 3,
   "metadata": {},
   "outputs": [
    {
     "name": "stdout",
     "output_type": "stream",
     "text": [
      "Using device: cuda\n"
     ]
    }
   ],
   "source": [
    "device = torch.device('cuda' if torch.cuda.is_available() else 'cpu')\n",
    "print('Using device:', device)"
   ]
  },
  {
   "cell_type": "code",
   "execution_count": 4,
   "metadata": {},
   "outputs": [
    {
     "data": {
      "text/plain": [
       "<All keys matched successfully>"
      ]
     },
     "execution_count": 4,
     "metadata": {},
     "output_type": "execute_result"
    }
   ],
   "source": [
    "from model import VAE\n",
    "\n",
    "# ptvae = VAE()\n",
    "\n",
    "# ptvae.load_state_dict(torch.load('model_decoder.pt', map_location=device))\n",
    "# ptvae.to(device)\n",
    "\n",
    "from model_tr_full_ultra_plus import VAETR\n",
    "\n",
    "ptvae = VAETR(device=device).to(device)\n",
    "\n",
    "# ptvae.load_state_dict(torch.load('runs_my_decoder/run_2024-04-24_16-33-11_256_0.0002_6/model_tr_encoder/pgrid-epoch-model.pt', map_location=device))\n",
    "# ptvae.load_state_dict(torch.load('runs_my_decoder/run_2024-04-26_16-55-41_256_0.001_10/model_tr_encoder/pgrid-epoch-model.pt', map_location=device))\n",
    "\n",
    "ptvae.load_state_dict(torch.load('runs_my_decoder/run_2024-04-28_22-14-18_110_0.001_10/model_tr_encoder/pgrid-epoch-model.pt', map_location=device))"
   ]
  },
  {
   "cell_type": "code",
   "execution_count": 5,
   "metadata": {},
   "outputs": [
    {
     "data": {
      "text/plain": [
       "Normal(loc: torch.Size([2, 1024]), scale: torch.Size([2, 1024]))"
      ]
     },
     "execution_count": 5,
     "metadata": {},
     "output_type": "execute_result"
    }
   ],
   "source": [
    "pitch_outs, dur_outs, dist = ptvae(torch.rand(2, 128, 16, 8).long().to(device))\n",
    "\n",
    "dist"
   ]
  },
  {
   "cell_type": "code",
   "execution_count": 6,
   "metadata": {},
   "outputs": [],
   "source": [
    "def pianotree_2_prmat(pianotree):\n",
    "    prmat = np.zeros((pianotree.shape[0], 128))\n",
    "    for t in range(pianotree.shape[0]):\n",
    "        for n in range(1, pianotree.shape[1]):\n",
    "            note = pianotree[t, n]\n",
    "            if note[0] == 129:\n",
    "                break\n",
    "            pitch = note[0]\n",
    "            dur = int(''.join([str(_) for _ in note[1:]]), 2) + 1\n",
    "            prmat[t, pitch] = dur\n",
    "    return prmat"
   ]
  },
  {
   "cell_type": "code",
   "execution_count": 7,
   "metadata": {},
   "outputs": [],
   "source": [
    "def convert_piano_roll(piano_roll):\n",
    "    # Get the number of timesteps and notes\n",
    "    timesteps, notes = piano_roll.shape\n",
    "    # Initialize the result array with zeros\n",
    "    result = np.zeros_like(piano_roll)\n",
    "    \n",
    "    # Iterate through each note\n",
    "    for note in range(notes):\n",
    "        t = 0\n",
    "        while t < timesteps:\n",
    "            duration = int(piano_roll[t, note])  # Convert to integer to handle durations\n",
    "            if duration > 0:\n",
    "                # Mark the note as pressed (2) at the start\n",
    "                result[t, note] = 2\n",
    "                # Mark the note as sustained (1) for the duration\n",
    "                for d in range(1, duration):\n",
    "                    if t + d < timesteps:  # Ensure we don't go out of bounds\n",
    "                        result[t + d, note] = 1\n",
    "                t += duration  # Skip the duration to next possible note start\n",
    "            else:\n",
    "                t += 1  # Move to the next timestep\n",
    "    \n",
    "    return result"
   ]
  },
  {
   "cell_type": "code",
   "execution_count": 8,
   "metadata": {},
   "outputs": [],
   "source": [
    "def pianotree_2_prmat_with_onset(pianotree):\n",
    "    prmat = pianotree_2_prmat(pianotree)\n",
    "    prmat_new = convert_piano_roll(prmat)\n",
    "    return prmat_new, prmat"
   ]
  },
  {
   "cell_type": "code",
   "execution_count": 10,
   "metadata": {},
   "outputs": [
    {
     "name": "stdout",
     "output_type": "stream",
     "text": [
      "174\n"
     ]
    }
   ],
   "source": [
    "from dataset_128 import PolyphonicDataset\n",
    "from torch.utils.data import DataLoader\n",
    "\n",
    "\n",
    "# dataset_path = \"pop909+mlpv_t32_fix1\"\n",
    "# val_path = os.path.join(dataset_path, 'pop909+mlpv_t32_val_fix1.npy')\n",
    "dataset_path = \"new_data\"\n",
    "val_path = os.path.join(dataset_path, 'pop909+mlpv_t128_val.npy')\n",
    "\n",
    "\n",
    "val_dataset = PolyphonicDataset(val_path, 0, 0)\n",
    "val_loader = DataLoader(val_dataset, 128, False)\n",
    "\n",
    "print(len(val_loader))\n"
   ]
  },
  {
   "cell_type": "code",
   "execution_count": 11,
   "metadata": {},
   "outputs": [
    {
     "data": {
      "text/plain": [
       "(12800, 128, 128)"
      ]
     },
     "execution_count": 11,
     "metadata": {},
     "output_type": "execute_result"
    }
   ],
   "source": [
    "all_val_data = []\n",
    "all_val_data_prmat = []\n",
    "i = 0\n",
    "for x in val_loader:\n",
    "    x = x.numpy()\n",
    "    for y in x:\n",
    "        prmat_new, prmat = pianotree_2_prmat_with_onset(y)\n",
    "        all_val_data.append(prmat_new)\n",
    "        all_val_data_prmat.append(prmat)\n",
    "\n",
    "    i += 1\n",
    "    if i == 100:\n",
    "        break\n",
    "\n",
    "all_val_data_orig = np.array(all_val_data)\n",
    "all_val_data_orig.shape\n"
   ]
  },
  {
   "cell_type": "code",
   "execution_count": 11,
   "metadata": {},
   "outputs": [
    {
     "data": {
      "image/png": "[encoded data removed]",
      "text/plain": [
       "<Figure size 1200x600 with 2 Axes>"
      ]
     },
     "metadata": {},
     "output_type": "display_data"
    }
   ],
   "source": [
    "def plot_piano_roll(ax, pr, title, subdiv=4, xlabel='Time', ylabel='Pitch'):\n",
    "    # assume input pr is (T, P).\n",
    "    T, P = pr.shape\n",
    "    ax.imshow(pr.T, origin='lower', aspect='auto', cmap='gray')\n",
    "    \n",
    "    ax.set_xticks(np.arange(0 - 0.5, T - 0.5, subdiv))\n",
    "    ax.set_xticklabels(np.arange(0, T, subdiv))\n",
    "    ax.set_xlabel(xlabel)\n",
    "    ax.set_yticks(np.arange(0, P, 12))\n",
    "    ax.set_ylabel(ylabel)\n",
    "    \n",
    "    plt.title(title)\n",
    "    ax.grid()\n",
    "\n",
    "\n",
    "fig, ax = plt.subplots(1, 2, figsize=(12, 6))\n",
    "\n",
    "plot_piano_roll(ax[0], all_val_data_prmat[0], 'ground truth')"
   ]
  },
  {
   "cell_type": "code",
   "execution_count": 12,
   "metadata": {},
   "outputs": [
    {
     "name": "stderr",
     "output_type": "stream",
     "text": [
      "/home/rikhat.akizhanov/Desktop/cources/ML711/venv/lib/python3.8/site-packages/torch/nn/modules/transformer.py:384: UserWarning: The PyTorch API of nested tensors is in prototype stage and will change in the near future. (Triggered internally at ../aten/src/ATen/NestedTensorImpl.cpp:177.)\n",
      "  output = torch._nested_tensor_from_mask(output, src_key_padding_mask.logical_not(), mask_check=False)\n"
     ]
    }
   ],
   "source": [
    "\n",
    "all_recon_data = []\n",
    "i  = 0\n",
    "ptvae.eval()\n",
    "\n",
    "with torch.no_grad():\n",
    "    for x in val_loader:\n",
    "        pitch_outs, dur_outs, dist = ptvae(x.to(device), inference=True)\n",
    "        est_pitch = pitch_outs.max(-1)[1].unsqueeze(-1)\n",
    "        est_dur = dur_outs.max(-1)[1]\n",
    "        recon = torch.cat([est_pitch, est_dur], dim=-1)\n",
    "        sos_line = torch.zeros(recon.size(0), ptvae.num_step, 1, 8, dtype=recon.dtype, device=recon.device)\n",
    "        sos_line[:, :, :, 0] = ptvae.pitch_sos\n",
    "        sos_line[:, :, :, 1:] = ptvae.dur_pad\n",
    "        recon = torch.cat([sos_line, recon], dim=2)\n",
    "        recon = recon.cpu().numpy()\n",
    "        for y in recon:\n",
    "            prmat_new, _ = pianotree_2_prmat_with_onset(y)\n",
    "            all_recon_data.append(prmat_new)\n",
    "\n",
    "        i += 1\n",
    "        if i == 100:\n",
    "            break\n",
    "    \n",
    "    "
   ]
  },
  {
   "cell_type": "code",
   "execution_count": 13,
   "metadata": {},
   "outputs": [
    {
     "data": {
      "text/plain": [
       "(12800, 128, 128)"
      ]
     },
     "execution_count": 13,
     "metadata": {},
     "output_type": "execute_result"
    }
   ],
   "source": [
    "all_recon_data = np.array(all_recon_data)\n",
    "all_recon_data.shape"
   ]
  },
  {
   "cell_type": "code",
   "execution_count": 14,
   "metadata": {},
   "outputs": [
    {
     "name": "stdout",
     "output_type": "stream",
     "text": [
      "[NOTE-LEVEL RECONSTRUCTION]\n",
      "PITCH+ONSET: \tP=0.8194,R=0.8043,F1=0.8118\n",
      "PITCH+ON+OFF: \tP=0.7026,R=0.6896,F1=0.6961\n",
      "GUS DURATION: \tP=0.9487,R=0.9002,F1=0.9239\n",
      "[FRAME-LEVEL RECONSTRUCTION]\n",
      "OVERALL ACC=0.9879\n",
      "SILENCE: \tP=0.9929,R=0.9948,F1=0.9938\n",
      "SUSTAIN: \tP=0.7508,R=0.6719,F1=0.7091\n",
      "ONSET: \tP=0.8194,R=0.8043,F1=0.8118\n",
      "[KLD]\n",
      "Z_DIM=16\n",
      "AVERAGE KLD=-0.000000\n"
     ]
    }
   ],
   "source": [
    "collect_statistics(all_val_data_orig, all_recon_data, np.zeros((1, 16)), np.zeros((1, 16)))"
   ]
  }
 ],
 "metadata": {
  "kernelspec": {
   "display_name": "venv",
   "language": "python",
   "name": "python3"
  },
  "language_info": {
   "codemirror_mode": {
    "name": "ipython",
    "version": 3
   },
   "file_extension": ".py",
   "mimetype": "text/x-python",
   "name": "python",
   "nbconvert_exporter": "python",
   "pygments_lexer": "ipython3",
   "version": "3.8.8"
  }
 },
 "nbformat": 4,
 "nbformat_minor": 2
}
